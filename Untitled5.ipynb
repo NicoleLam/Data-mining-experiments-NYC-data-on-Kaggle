{
 "cells": [
  {
   "cell_type": "markdown",
   "metadata": {},
   "source": [
    "## Determine whether there is a correlation between the violation time and vehicle year attributes"
   ]
  },
  {
   "cell_type": "markdown",
   "metadata": {},
   "source": [
    "After pre-processing the data like previous steps (convert data into datetime data type and remove the empty data), sub-sample 7000 instances for each year, 28000 instances in total. Then use each data to minus the minimum in the data, and convert each data into seconds."
   ]
  },
  {
   "cell_type": "code",
   "execution_count": 2,
   "metadata": {},
   "outputs": [],
   "source": [
    "import pandas as pd\n",
    "import numpy as np\n",
    "import csv\n",
    "import matplotlib.pyplot as plt\n",
    "import scipy.stats"
   ]
  },
  {
   "cell_type": "code",
   "execution_count": 44,
   "metadata": {},
   "outputs": [],
   "source": [
    "dataset4 = pd.read_csv('E:/nyc-parking-tickets/cor14.csv', delimiter=\",\", quotechar = '\\\"')"
   ]
  },
  {
   "cell_type": "code",
   "execution_count": 3,
   "metadata": {},
   "outputs": [],
   "source": [
    "dataset5 = pd.read_csv('E:/nyc-parking-tickets/cor15.csv', delimiter=\",\", quotechar = '\\\"')"
   ]
  },
  {
   "cell_type": "code",
   "execution_count": 5,
   "metadata": {},
   "outputs": [],
   "source": [
    "dataset6 = pd.read_csv('E:/nyc-parking-tickets/cor16.csv', delimiter=\",\", quotechar = '\\\"')"
   ]
  },
  {
   "cell_type": "code",
   "execution_count": 7,
   "metadata": {},
   "outputs": [],
   "source": [
    "dataset7 = pd.read_csv('E:/nyc-parking-tickets/cor17.csv', delimiter=\",\", quotechar = '\\\"')"
   ]
  },
  {
   "cell_type": "code",
   "execution_count": 8,
   "metadata": {},
   "outputs": [
    {
     "data": {
      "text/plain": [
       "0       2005\n",
       "1       2016\n",
       "2       2003\n",
       "3       2016\n",
       "4          0\n",
       "5       2007\n",
       "6          0\n",
       "7          0\n",
       "8       2015\n",
       "9          0\n",
       "10      2016\n",
       "11         0\n",
       "12      2016\n",
       "13      2010\n",
       "14      2014\n",
       "15      2014\n",
       "16      2015\n",
       "17      1992\n",
       "18      2003\n",
       "19      2016\n",
       "20      2002\n",
       "21      2008\n",
       "22      2004\n",
       "23      2011\n",
       "24      2017\n",
       "25         0\n",
       "26      2014\n",
       "27      2016\n",
       "28         0\n",
       "29      2010\n",
       "        ... \n",
       "9970    2014\n",
       "9971    2012\n",
       "9972    2007\n",
       "9973    2013\n",
       "9974    2016\n",
       "9975    2010\n",
       "9976    2015\n",
       "9977    2014\n",
       "9978    2016\n",
       "9979    2016\n",
       "9980    2006\n",
       "9981    2017\n",
       "9982    2016\n",
       "9983    2008\n",
       "9984    2014\n",
       "9985    2002\n",
       "9986    2016\n",
       "9987    2007\n",
       "9988       0\n",
       "9989    2015\n",
       "9990    2005\n",
       "9991    1998\n",
       "9992    2014\n",
       "9993    2011\n",
       "9994    2010\n",
       "9995    2006\n",
       "9996    2014\n",
       "9997    2015\n",
       "9998    2013\n",
       "9999    2007\n",
       "Name: Vehicle.Year, Length: 10000, dtype: int64"
      ]
     },
     "execution_count": 8,
     "metadata": {},
     "output_type": "execute_result"
    }
   ],
   "source": [
    "dataset7['Vehicle.Year']"
   ]
  },
  {
   "cell_type": "code",
   "execution_count": 45,
   "metadata": {},
   "outputs": [],
   "source": [
    "dataset4['Violation.Time'].replace(r'[0-9]{4}.', dataset4['Violation.Time'] + 'M', regex = True, inplace = True)"
   ]
  },
  {
   "cell_type": "code",
   "execution_count": 46,
   "metadata": {},
   "outputs": [],
   "source": [
    "temp = dataset4['Vehicle.Year'].astype(int)"
   ]
  },
  {
   "cell_type": "code",
   "execution_count": 47,
   "metadata": {},
   "outputs": [],
   "source": [
    "dataset4['Vehicle.Year'] = temp"
   ]
  },
  {
   "cell_type": "code",
   "execution_count": 48,
   "metadata": {},
   "outputs": [],
   "source": [
    "temp1 = pd.to_datetime(dataset4['Violation.Time'], format = '%I%M%p', errors = 'coerce')"
   ]
  },
  {
   "cell_type": "code",
   "execution_count": 49,
   "metadata": {},
   "outputs": [],
   "source": [
    "dataset4['Violation.Time'] = temp1"
   ]
  },
  {
   "cell_type": "code",
   "execution_count": 50,
   "metadata": {},
   "outputs": [],
   "source": [
    "temp2 = pd.to_datetime(dataset4['Vehicle.Year'], format = '%Y', errors = 'coerce')"
   ]
  },
  {
   "cell_type": "code",
   "execution_count": 51,
   "metadata": {},
   "outputs": [],
   "source": [
    "dataset4['Vehicle.Year'] = temp2"
   ]
  },
  {
   "cell_type": "code",
   "execution_count": 52,
   "metadata": {},
   "outputs": [],
   "source": [
    "dataset4 = dataset4.dropna(how = 'any')"
   ]
  },
  {
   "cell_type": "code",
   "execution_count": 53,
   "metadata": {},
   "outputs": [],
   "source": [
    "keepcol = ['Violation.Time', 'Vehicle.Year']"
   ]
  },
  {
   "cell_type": "code",
   "execution_count": 54,
   "metadata": {},
   "outputs": [],
   "source": [
    "dataset4 = dataset4[keepcol]"
   ]
  },
  {
   "cell_type": "code",
   "execution_count": 71,
   "metadata": {},
   "outputs": [],
   "source": [
    "da4 = dataset4.sample(n = 7200)"
   ]
  },
  {
   "cell_type": "code",
   "execution_count": 74,
   "metadata": {},
   "outputs": [],
   "source": [
    "da6 = dataset6.sample(n = 7200)"
   ]
  },
  {
   "cell_type": "code",
   "execution_count": 77,
   "metadata": {},
   "outputs": [],
   "source": [
    "daall = pd.concat([da4, da5, da6, da7])"
   ]
  },
  {
   "cell_type": "code",
   "execution_count": 56,
   "metadata": {},
   "outputs": [],
   "source": [
    "#dataset4 done"
   ]
  },
  {
   "cell_type": "code",
   "execution_count": 42,
   "metadata": {},
   "outputs": [],
   "source": [
    "#dataset7 done"
   ]
  },
  {
   "cell_type": "code",
   "execution_count": 32,
   "metadata": {},
   "outputs": [],
   "source": [
    "#dataset6 done"
   ]
  },
  {
   "cell_type": "code",
   "execution_count": 20,
   "metadata": {},
   "outputs": [],
   "source": [
    "#dataset5 done"
   ]
  },
  {
   "cell_type": "code",
   "execution_count": 78,
   "metadata": {},
   "outputs": [
    {
     "data": {
      "text/html": [
       "<div>\n",
       "<style scoped>\n",
       "    .dataframe tbody tr th:only-of-type {\n",
       "        vertical-align: middle;\n",
       "    }\n",
       "\n",
       "    .dataframe tbody tr th {\n",
       "        vertical-align: top;\n",
       "    }\n",
       "\n",
       "    .dataframe thead th {\n",
       "        text-align: right;\n",
       "    }\n",
       "</style>\n",
       "<table border=\"1\" class=\"dataframe\">\n",
       "  <thead>\n",
       "    <tr style=\"text-align: right;\">\n",
       "      <th></th>\n",
       "      <th>Violation.Time</th>\n",
       "      <th>Vehicle.Year</th>\n",
       "    </tr>\n",
       "  </thead>\n",
       "  <tbody>\n",
       "    <tr>\n",
       "      <th>4730</th>\n",
       "      <td>1900-01-01 01:27:00</td>\n",
       "      <td>2012-01-01</td>\n",
       "    </tr>\n",
       "    <tr>\n",
       "      <th>8465</th>\n",
       "      <td>1900-01-01 12:55:00</td>\n",
       "      <td>2004-01-01</td>\n",
       "    </tr>\n",
       "    <tr>\n",
       "      <th>9882</th>\n",
       "      <td>1900-01-01 05:53:00</td>\n",
       "      <td>2010-01-01</td>\n",
       "    </tr>\n",
       "    <tr>\n",
       "      <th>6016</th>\n",
       "      <td>1900-01-01 08:14:00</td>\n",
       "      <td>1988-01-01</td>\n",
       "    </tr>\n",
       "    <tr>\n",
       "      <th>1022</th>\n",
       "      <td>1900-01-01 17:15:00</td>\n",
       "      <td>2006-01-01</td>\n",
       "    </tr>\n",
       "    <tr>\n",
       "      <th>8053</th>\n",
       "      <td>1900-01-01 14:22:00</td>\n",
       "      <td>2003-01-01</td>\n",
       "    </tr>\n",
       "    <tr>\n",
       "      <th>7179</th>\n",
       "      <td>1900-01-01 12:57:00</td>\n",
       "      <td>2004-01-01</td>\n",
       "    </tr>\n",
       "    <tr>\n",
       "      <th>1695</th>\n",
       "      <td>1900-01-01 11:20:00</td>\n",
       "      <td>2007-01-01</td>\n",
       "    </tr>\n",
       "    <tr>\n",
       "      <th>9168</th>\n",
       "      <td>1900-01-01 09:16:00</td>\n",
       "      <td>2014-01-01</td>\n",
       "    </tr>\n",
       "    <tr>\n",
       "      <th>3437</th>\n",
       "      <td>1900-01-01 16:52:00</td>\n",
       "      <td>2011-01-01</td>\n",
       "    </tr>\n",
       "    <tr>\n",
       "      <th>7506</th>\n",
       "      <td>1900-01-01 09:25:00</td>\n",
       "      <td>2001-01-01</td>\n",
       "    </tr>\n",
       "    <tr>\n",
       "      <th>3647</th>\n",
       "      <td>1900-01-01 13:37:00</td>\n",
       "      <td>2003-01-01</td>\n",
       "    </tr>\n",
       "    <tr>\n",
       "      <th>479</th>\n",
       "      <td>1900-01-01 12:49:00</td>\n",
       "      <td>2012-01-01</td>\n",
       "    </tr>\n",
       "    <tr>\n",
       "      <th>1655</th>\n",
       "      <td>1900-01-01 07:50:00</td>\n",
       "      <td>2004-01-01</td>\n",
       "    </tr>\n",
       "    <tr>\n",
       "      <th>7519</th>\n",
       "      <td>1900-01-01 12:30:00</td>\n",
       "      <td>2010-01-01</td>\n",
       "    </tr>\n",
       "    <tr>\n",
       "      <th>7969</th>\n",
       "      <td>1900-01-01 15:22:00</td>\n",
       "      <td>2006-01-01</td>\n",
       "    </tr>\n",
       "    <tr>\n",
       "      <th>5947</th>\n",
       "      <td>1900-01-01 14:48:00</td>\n",
       "      <td>2011-01-01</td>\n",
       "    </tr>\n",
       "    <tr>\n",
       "      <th>8120</th>\n",
       "      <td>1900-01-01 08:09:00</td>\n",
       "      <td>2005-01-01</td>\n",
       "    </tr>\n",
       "    <tr>\n",
       "      <th>2239</th>\n",
       "      <td>1900-01-01 22:40:00</td>\n",
       "      <td>1996-01-01</td>\n",
       "    </tr>\n",
       "    <tr>\n",
       "      <th>6765</th>\n",
       "      <td>1900-01-01 12:16:00</td>\n",
       "      <td>2009-01-01</td>\n",
       "    </tr>\n",
       "    <tr>\n",
       "      <th>9012</th>\n",
       "      <td>1900-01-01 15:58:00</td>\n",
       "      <td>2005-01-01</td>\n",
       "    </tr>\n",
       "    <tr>\n",
       "      <th>3803</th>\n",
       "      <td>1900-01-01 15:30:00</td>\n",
       "      <td>2001-01-01</td>\n",
       "    </tr>\n",
       "    <tr>\n",
       "      <th>236</th>\n",
       "      <td>1900-01-01 14:42:00</td>\n",
       "      <td>2009-01-01</td>\n",
       "    </tr>\n",
       "    <tr>\n",
       "      <th>2563</th>\n",
       "      <td>1900-01-01 06:11:00</td>\n",
       "      <td>2007-01-01</td>\n",
       "    </tr>\n",
       "    <tr>\n",
       "      <th>6723</th>\n",
       "      <td>1900-01-01 11:35:00</td>\n",
       "      <td>2010-01-01</td>\n",
       "    </tr>\n",
       "    <tr>\n",
       "      <th>8706</th>\n",
       "      <td>1900-01-01 11:21:00</td>\n",
       "      <td>2014-01-01</td>\n",
       "    </tr>\n",
       "    <tr>\n",
       "      <th>2391</th>\n",
       "      <td>1900-01-01 09:15:00</td>\n",
       "      <td>2005-01-01</td>\n",
       "    </tr>\n",
       "    <tr>\n",
       "      <th>5591</th>\n",
       "      <td>1900-01-01 11:02:00</td>\n",
       "      <td>2002-01-01</td>\n",
       "    </tr>\n",
       "    <tr>\n",
       "      <th>2691</th>\n",
       "      <td>1900-01-01 15:02:00</td>\n",
       "      <td>2011-01-01</td>\n",
       "    </tr>\n",
       "    <tr>\n",
       "      <th>4272</th>\n",
       "      <td>1900-01-01 10:45:00</td>\n",
       "      <td>2014-01-01</td>\n",
       "    </tr>\n",
       "    <tr>\n",
       "      <th>...</th>\n",
       "      <td>...</td>\n",
       "      <td>...</td>\n",
       "    </tr>\n",
       "    <tr>\n",
       "      <th>3395</th>\n",
       "      <td>1900-01-01 13:36:00</td>\n",
       "      <td>2004-01-01</td>\n",
       "    </tr>\n",
       "    <tr>\n",
       "      <th>7638</th>\n",
       "      <td>1900-01-01 08:08:00</td>\n",
       "      <td>2016-01-01</td>\n",
       "    </tr>\n",
       "    <tr>\n",
       "      <th>8136</th>\n",
       "      <td>1900-01-01 07:28:00</td>\n",
       "      <td>2016-01-01</td>\n",
       "    </tr>\n",
       "    <tr>\n",
       "      <th>841</th>\n",
       "      <td>1900-01-01 08:30:00</td>\n",
       "      <td>2012-01-01</td>\n",
       "    </tr>\n",
       "    <tr>\n",
       "      <th>608</th>\n",
       "      <td>1900-01-01 14:13:00</td>\n",
       "      <td>2006-01-01</td>\n",
       "    </tr>\n",
       "    <tr>\n",
       "      <th>7809</th>\n",
       "      <td>1900-01-01 09:05:00</td>\n",
       "      <td>2013-01-01</td>\n",
       "    </tr>\n",
       "    <tr>\n",
       "      <th>8981</th>\n",
       "      <td>1900-01-01 03:10:00</td>\n",
       "      <td>2016-01-01</td>\n",
       "    </tr>\n",
       "    <tr>\n",
       "      <th>3867</th>\n",
       "      <td>1900-01-01 14:46:00</td>\n",
       "      <td>2017-01-01</td>\n",
       "    </tr>\n",
       "    <tr>\n",
       "      <th>537</th>\n",
       "      <td>1900-01-01 11:28:00</td>\n",
       "      <td>2002-01-01</td>\n",
       "    </tr>\n",
       "    <tr>\n",
       "      <th>729</th>\n",
       "      <td>1900-01-01 10:23:00</td>\n",
       "      <td>2013-01-01</td>\n",
       "    </tr>\n",
       "    <tr>\n",
       "      <th>6649</th>\n",
       "      <td>1900-01-01 11:58:00</td>\n",
       "      <td>2008-01-01</td>\n",
       "    </tr>\n",
       "    <tr>\n",
       "      <th>8374</th>\n",
       "      <td>1900-01-01 12:04:00</td>\n",
       "      <td>2015-01-01</td>\n",
       "    </tr>\n",
       "    <tr>\n",
       "      <th>8992</th>\n",
       "      <td>1900-01-01 06:10:00</td>\n",
       "      <td>2003-01-01</td>\n",
       "    </tr>\n",
       "    <tr>\n",
       "      <th>6121</th>\n",
       "      <td>1900-01-01 10:27:00</td>\n",
       "      <td>2013-01-01</td>\n",
       "    </tr>\n",
       "    <tr>\n",
       "      <th>2911</th>\n",
       "      <td>1900-01-01 07:27:00</td>\n",
       "      <td>2010-01-01</td>\n",
       "    </tr>\n",
       "    <tr>\n",
       "      <th>5502</th>\n",
       "      <td>1900-01-01 09:55:00</td>\n",
       "      <td>2014-01-01</td>\n",
       "    </tr>\n",
       "    <tr>\n",
       "      <th>219</th>\n",
       "      <td>1900-01-01 09:55:00</td>\n",
       "      <td>2014-01-01</td>\n",
       "    </tr>\n",
       "    <tr>\n",
       "      <th>2865</th>\n",
       "      <td>1900-01-01 12:18:00</td>\n",
       "      <td>2015-01-01</td>\n",
       "    </tr>\n",
       "    <tr>\n",
       "      <th>4848</th>\n",
       "      <td>1900-01-01 15:47:00</td>\n",
       "      <td>2004-01-01</td>\n",
       "    </tr>\n",
       "    <tr>\n",
       "      <th>2664</th>\n",
       "      <td>1900-01-01 14:30:00</td>\n",
       "      <td>2010-01-01</td>\n",
       "    </tr>\n",
       "    <tr>\n",
       "      <th>662</th>\n",
       "      <td>1900-01-01 13:39:00</td>\n",
       "      <td>2006-01-01</td>\n",
       "    </tr>\n",
       "    <tr>\n",
       "      <th>6702</th>\n",
       "      <td>1900-01-01 08:46:00</td>\n",
       "      <td>2011-01-01</td>\n",
       "    </tr>\n",
       "    <tr>\n",
       "      <th>3022</th>\n",
       "      <td>1900-01-01 20:21:00</td>\n",
       "      <td>2015-01-01</td>\n",
       "    </tr>\n",
       "    <tr>\n",
       "      <th>1462</th>\n",
       "      <td>1900-01-01 15:23:00</td>\n",
       "      <td>2016-01-01</td>\n",
       "    </tr>\n",
       "    <tr>\n",
       "      <th>4710</th>\n",
       "      <td>1900-01-01 10:49:00</td>\n",
       "      <td>2015-01-01</td>\n",
       "    </tr>\n",
       "    <tr>\n",
       "      <th>5508</th>\n",
       "      <td>1900-01-01 11:14:00</td>\n",
       "      <td>2016-01-01</td>\n",
       "    </tr>\n",
       "    <tr>\n",
       "      <th>560</th>\n",
       "      <td>1900-01-01 15:51:00</td>\n",
       "      <td>2001-01-01</td>\n",
       "    </tr>\n",
       "    <tr>\n",
       "      <th>3793</th>\n",
       "      <td>1900-01-01 15:44:00</td>\n",
       "      <td>2016-01-01</td>\n",
       "    </tr>\n",
       "    <tr>\n",
       "      <th>8746</th>\n",
       "      <td>1900-01-01 08:18:00</td>\n",
       "      <td>2015-01-01</td>\n",
       "    </tr>\n",
       "    <tr>\n",
       "      <th>7830</th>\n",
       "      <td>1900-01-01 10:22:00</td>\n",
       "      <td>2012-01-01</td>\n",
       "    </tr>\n",
       "  </tbody>\n",
       "</table>\n",
       "<p>28800 rows × 2 columns</p>\n",
       "</div>"
      ],
      "text/plain": [
       "          Violation.Time Vehicle.Year\n",
       "4730 1900-01-01 01:27:00   2012-01-01\n",
       "8465 1900-01-01 12:55:00   2004-01-01\n",
       "9882 1900-01-01 05:53:00   2010-01-01\n",
       "6016 1900-01-01 08:14:00   1988-01-01\n",
       "1022 1900-01-01 17:15:00   2006-01-01\n",
       "8053 1900-01-01 14:22:00   2003-01-01\n",
       "7179 1900-01-01 12:57:00   2004-01-01\n",
       "1695 1900-01-01 11:20:00   2007-01-01\n",
       "9168 1900-01-01 09:16:00   2014-01-01\n",
       "3437 1900-01-01 16:52:00   2011-01-01\n",
       "7506 1900-01-01 09:25:00   2001-01-01\n",
       "3647 1900-01-01 13:37:00   2003-01-01\n",
       "479  1900-01-01 12:49:00   2012-01-01\n",
       "1655 1900-01-01 07:50:00   2004-01-01\n",
       "7519 1900-01-01 12:30:00   2010-01-01\n",
       "7969 1900-01-01 15:22:00   2006-01-01\n",
       "5947 1900-01-01 14:48:00   2011-01-01\n",
       "8120 1900-01-01 08:09:00   2005-01-01\n",
       "2239 1900-01-01 22:40:00   1996-01-01\n",
       "6765 1900-01-01 12:16:00   2009-01-01\n",
       "9012 1900-01-01 15:58:00   2005-01-01\n",
       "3803 1900-01-01 15:30:00   2001-01-01\n",
       "236  1900-01-01 14:42:00   2009-01-01\n",
       "2563 1900-01-01 06:11:00   2007-01-01\n",
       "6723 1900-01-01 11:35:00   2010-01-01\n",
       "8706 1900-01-01 11:21:00   2014-01-01\n",
       "2391 1900-01-01 09:15:00   2005-01-01\n",
       "5591 1900-01-01 11:02:00   2002-01-01\n",
       "2691 1900-01-01 15:02:00   2011-01-01\n",
       "4272 1900-01-01 10:45:00   2014-01-01\n",
       "...                  ...          ...\n",
       "3395 1900-01-01 13:36:00   2004-01-01\n",
       "7638 1900-01-01 08:08:00   2016-01-01\n",
       "8136 1900-01-01 07:28:00   2016-01-01\n",
       "841  1900-01-01 08:30:00   2012-01-01\n",
       "608  1900-01-01 14:13:00   2006-01-01\n",
       "7809 1900-01-01 09:05:00   2013-01-01\n",
       "8981 1900-01-01 03:10:00   2016-01-01\n",
       "3867 1900-01-01 14:46:00   2017-01-01\n",
       "537  1900-01-01 11:28:00   2002-01-01\n",
       "729  1900-01-01 10:23:00   2013-01-01\n",
       "6649 1900-01-01 11:58:00   2008-01-01\n",
       "8374 1900-01-01 12:04:00   2015-01-01\n",
       "8992 1900-01-01 06:10:00   2003-01-01\n",
       "6121 1900-01-01 10:27:00   2013-01-01\n",
       "2911 1900-01-01 07:27:00   2010-01-01\n",
       "5502 1900-01-01 09:55:00   2014-01-01\n",
       "219  1900-01-01 09:55:00   2014-01-01\n",
       "2865 1900-01-01 12:18:00   2015-01-01\n",
       "4848 1900-01-01 15:47:00   2004-01-01\n",
       "2664 1900-01-01 14:30:00   2010-01-01\n",
       "662  1900-01-01 13:39:00   2006-01-01\n",
       "6702 1900-01-01 08:46:00   2011-01-01\n",
       "3022 1900-01-01 20:21:00   2015-01-01\n",
       "1462 1900-01-01 15:23:00   2016-01-01\n",
       "4710 1900-01-01 10:49:00   2015-01-01\n",
       "5508 1900-01-01 11:14:00   2016-01-01\n",
       "560  1900-01-01 15:51:00   2001-01-01\n",
       "3793 1900-01-01 15:44:00   2016-01-01\n",
       "8746 1900-01-01 08:18:00   2015-01-01\n",
       "7830 1900-01-01 10:22:00   2012-01-01\n",
       "\n",
       "[28800 rows x 2 columns]"
      ]
     },
     "execution_count": 78,
     "metadata": {},
     "output_type": "execute_result"
    }
   ],
   "source": [
    "daall"
   ]
  },
  {
   "cell_type": "code",
   "execution_count": 53,
   "metadata": {},
   "outputs": [],
   "source": [
    "#dacol sample 7000 ##########to do, convert to seconds, correlation"
   ]
  },
  {
   "cell_type": "code",
   "execution_count": 79,
   "metadata": {},
   "outputs": [],
   "source": [
    "te1 = (daall['Violation.Time'] - daall['Violation.Time'].min()).dt.total_seconds()"
   ]
  },
  {
   "cell_type": "code",
   "execution_count": 80,
   "metadata": {},
   "outputs": [],
   "source": [
    "te2 = (daall['Vehicle.Year'] - daall['Vehicle.Year'].min()).dt.total_seconds()"
   ]
  },
  {
   "cell_type": "code",
   "execution_count": 81,
   "metadata": {},
   "outputs": [],
   "source": [
    "newtest = pd.concat([te1, te2], axis=1)"
   ]
  },
  {
   "cell_type": "markdown",
   "metadata": {},
   "source": [
    "use Pandas to calculate the pearson correlation"
   ]
  },
  {
   "cell_type": "code",
   "execution_count": 82,
   "metadata": {},
   "outputs": [
    {
     "data": {
      "text/html": [
       "<div>\n",
       "<style scoped>\n",
       "    .dataframe tbody tr th:only-of-type {\n",
       "        vertical-align: middle;\n",
       "    }\n",
       "\n",
       "    .dataframe tbody tr th {\n",
       "        vertical-align: top;\n",
       "    }\n",
       "\n",
       "    .dataframe thead th {\n",
       "        text-align: right;\n",
       "    }\n",
       "</style>\n",
       "<table border=\"1\" class=\"dataframe\">\n",
       "  <thead>\n",
       "    <tr style=\"text-align: right;\">\n",
       "      <th></th>\n",
       "      <th>Violation.Time</th>\n",
       "      <th>Vehicle.Year</th>\n",
       "    </tr>\n",
       "  </thead>\n",
       "  <tbody>\n",
       "    <tr>\n",
       "      <th>Violation.Time</th>\n",
       "      <td>1.000000</td>\n",
       "      <td>0.014914</td>\n",
       "    </tr>\n",
       "    <tr>\n",
       "      <th>Vehicle.Year</th>\n",
       "      <td>0.014914</td>\n",
       "      <td>1.000000</td>\n",
       "    </tr>\n",
       "  </tbody>\n",
       "</table>\n",
       "</div>"
      ],
      "text/plain": [
       "                Violation.Time  Vehicle.Year\n",
       "Violation.Time        1.000000      0.014914\n",
       "Vehicle.Year          0.014914      1.000000"
      ]
     },
     "execution_count": 82,
     "metadata": {},
     "output_type": "execute_result"
    }
   ],
   "source": [
    "newtest.corr(method = 'pearson')"
   ]
  },
  {
   "cell_type": "markdown",
   "metadata": {},
   "source": [
    "use scipy to calculate the pearson correlation"
   ]
  },
  {
   "cell_type": "code",
   "execution_count": 83,
   "metadata": {},
   "outputs": [
    {
     "data": {
      "text/plain": [
       "(0.014913519157286035, 0.011375762590271394)"
      ]
     },
     "execution_count": 83,
     "metadata": {},
     "output_type": "execute_result"
    }
   ],
   "source": [
    "scipy.stats.pearsonr(newtest['Violation.Time'], newtest['Vehicle.Year'])"
   ]
  },
  {
   "cell_type": "markdown",
   "metadata": {},
   "source": [
    "As the value of Pearson correlation coefficient is too small, we can assume that there is no correlation between these two attributes."
   ]
  },
  {
   "cell_type": "markdown",
   "metadata": {},
   "source": [
    "##test for converting to seconds and correlation"
   ]
  },
  {
   "cell_type": "code",
   "execution_count": 21,
   "metadata": {},
   "outputs": [],
   "source": [
    "test = dacol[:100]"
   ]
  },
  {
   "cell_type": "code",
   "execution_count": 26,
   "metadata": {},
   "outputs": [
    {
     "data": {
      "text/plain": [
       "0     10:06:00\n",
       "1     12:11:00\n",
       "2     08:04:00\n",
       "3     15:22:00\n",
       "5     09:24:00\n",
       "7     08:26:00\n",
       "9     14:37:00\n",
       "11    14:25:00\n",
       "12    13:29:00\n",
       "13    00:00:00\n",
       "14    16:03:00\n",
       "15    09:23:00\n",
       "16    13:14:00\n",
       "18    12:35:00\n",
       "19    08:38:00\n",
       "21    10:30:00\n",
       "22    10:42:00\n",
       "23    08:04:00\n",
       "24    08:36:00\n",
       "25    07:46:00\n",
       "26    11:10:00\n",
       "29    07:11:00\n",
       "31    12:28:00\n",
       "32    11:05:00\n",
       "33    11:29:00\n",
       "34    09:25:00\n",
       "35    09:57:00\n",
       "36    07:31:00\n",
       "38    09:51:00\n",
       "39    08:17:00\n",
       "        ...   \n",
       "90    00:56:00\n",
       "91    15:47:00\n",
       "92    00:05:00\n",
       "95    05:30:00\n",
       "97    10:09:00\n",
       "99    08:50:00\n",
       "100   12:20:00\n",
       "102   09:11:00\n",
       "104   12:41:00\n",
       "105   08:31:00\n",
       "106   13:40:00\n",
       "107   10:50:00\n",
       "108   10:04:00\n",
       "109   09:54:00\n",
       "110   04:24:00\n",
       "111   13:27:00\n",
       "112   06:50:00\n",
       "113   12:18:00\n",
       "114   13:12:00\n",
       "115   08:10:00\n",
       "116   08:26:00\n",
       "117   14:56:00\n",
       "118   07:24:00\n",
       "119   05:35:00\n",
       "122   13:41:00\n",
       "124   12:12:00\n",
       "125   08:18:00\n",
       "126   06:10:00\n",
       "128   00:15:00\n",
       "129   10:34:00\n",
       "Name: Violation.Time, Length: 100, dtype: timedelta64[ns]"
      ]
     },
     "execution_count": 26,
     "metadata": {},
     "output_type": "execute_result"
    }
   ],
   "source": [
    "test['Violation.Time'] - test['Violation.Time'].min()"
   ]
  },
  {
   "cell_type": "code",
   "execution_count": 28,
   "metadata": {},
   "outputs": [],
   "source": [
    "te1 = (test['Violation.Time'] - test['Violation.Time'].min()).dt.total_seconds()"
   ]
  },
  {
   "cell_type": "code",
   "execution_count": 30,
   "metadata": {},
   "outputs": [],
   "source": [
    "te2 = (test['Vehicle.Year'] - test['Vehicle.Year'].min()).dt.total_seconds()"
   ]
  },
  {
   "cell_type": "code",
   "execution_count": 48,
   "metadata": {},
   "outputs": [],
   "source": [
    "newtest = pd.concat([te1, te2], axis=1)"
   ]
  },
  {
   "cell_type": "code",
   "execution_count": 52,
   "metadata": {},
   "outputs": [
    {
     "data": {
      "text/html": [
       "<div>\n",
       "<style scoped>\n",
       "    .dataframe tbody tr th:only-of-type {\n",
       "        vertical-align: middle;\n",
       "    }\n",
       "\n",
       "    .dataframe tbody tr th {\n",
       "        vertical-align: top;\n",
       "    }\n",
       "\n",
       "    .dataframe thead th {\n",
       "        text-align: right;\n",
       "    }\n",
       "</style>\n",
       "<table border=\"1\" class=\"dataframe\">\n",
       "  <thead>\n",
       "    <tr style=\"text-align: right;\">\n",
       "      <th></th>\n",
       "      <th>Violation.Time</th>\n",
       "      <th>Vehicle.Year</th>\n",
       "    </tr>\n",
       "  </thead>\n",
       "  <tbody>\n",
       "    <tr>\n",
       "      <th>Violation.Time</th>\n",
       "      <td>1.000000</td>\n",
       "      <td>0.030388</td>\n",
       "    </tr>\n",
       "    <tr>\n",
       "      <th>Vehicle.Year</th>\n",
       "      <td>0.030388</td>\n",
       "      <td>1.000000</td>\n",
       "    </tr>\n",
       "  </tbody>\n",
       "</table>\n",
       "</div>"
      ],
      "text/plain": [
       "                Violation.Time  Vehicle.Year\n",
       "Violation.Time        1.000000      0.030388\n",
       "Vehicle.Year          0.030388      1.000000"
      ]
     },
     "execution_count": 52,
     "metadata": {},
     "output_type": "execute_result"
    }
   ],
   "source": [
    "newtest.corr(method = 'pearson')"
   ]
  },
  {
   "cell_type": "code",
   "execution_count": 50,
   "metadata": {},
   "outputs": [],
   "source": [
    "#newtest"
   ]
  },
  {
   "cell_type": "markdown",
   "metadata": {},
   "source": [
    "##end of test"
   ]
  }
 ],
 "metadata": {
  "kernelspec": {
   "display_name": "Python 3",
   "language": "python",
   "name": "python3"
  },
  "language_info": {
   "codemirror_mode": {
    "name": "ipython",
    "version": 3
   },
   "file_extension": ".py",
   "mimetype": "text/x-python",
   "name": "python",
   "nbconvert_exporter": "python",
   "pygments_lexer": "ipython3",
   "version": "3.6.4"
  }
 },
 "nbformat": 4,
 "nbformat_minor": 2
}
