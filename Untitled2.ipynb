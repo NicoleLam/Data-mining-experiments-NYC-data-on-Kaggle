{
 "cells": [
  {
   "cell_type": "markdown",
   "metadata": {},
   "source": [
    "## This notebook is for calculating the mean value of the violation time attribute and investigating the distribution of the violation time attribute"
   ]
  },
  {
   "cell_type": "code",
   "execution_count": 11,
   "metadata": {},
   "outputs": [],
   "source": [
    "%matplotlib inline\n",
    "import pandas as pd\n",
    "import numpy as np\n",
    "import csv\n",
    "from time import time\n",
    "import scipy"
   ]
  },
  {
   "cell_type": "code",
   "execution_count": null,
   "metadata": {},
   "outputs": [],
   "source": [
    "dataset4 = pd.read_csv('E:/nyc-parking-tickets/2014time.csv', delimiter=\",\", quotechar = '\\\"', header = None)"
   ]
  },
  {
   "cell_type": "code",
   "execution_count": 3,
   "metadata": {},
   "outputs": [],
   "source": [
    "dataset5 = pd.read_csv('E:/nyc-parking-tickets/2015time.csv', delimiter=\",\", quotechar = '\\\"', header = None) "
   ]
  },
  {
   "cell_type": "code",
   "execution_count": 4,
   "metadata": {},
   "outputs": [],
   "source": [
    "dataset6 = pd.read_csv('E:/nyc-parking-tickets/2016time.csv', delimiter=\",\", quotechar = '\\\"', header = None)"
   ]
  },
  {
   "cell_type": "code",
   "execution_count": 5,
   "metadata": {},
   "outputs": [],
   "source": [
    "dataset7 = pd.read_csv('E:/nyc-parking-tickets/2017time.csv', delimiter=\",\", quotechar = '\\\"', header = None)"
   ]
  },
  {
   "cell_type": "code",
   "execution_count": 6,
   "metadata": {},
   "outputs": [],
   "source": [
    "timedata = pd.read_csv('E:/nyc-parking-tickets/timedata.csv', delimiter=\",\", quotechar = '\\\"')"
   ]
  },
  {
   "cell_type": "code",
   "execution_count": 2,
   "metadata": {},
   "outputs": [
    {
     "name": "stderr",
     "output_type": "stream",
     "text": [
      "d:\\python 3.6.4\\lib\\site-packages\\IPython\\core\\interactiveshell.py:2728: DtypeWarning: Columns (18,38) have mixed types. Specify dtype option on import or set low_memory=False.\n",
      "  interactivity=interactivity, compiler=compiler, result=result)\n"
     ]
    }
   ],
   "source": [
    "dataset7 = pd.read_csv('E:/nyc-parking-tickets/Parking_Violations_Issued_-_Fiscal_Year_2017.csv', delimiter=\",\", quotechar = '\\\"' )"
   ]
  },
  {
   "cell_type": "markdown",
   "metadata": {},
   "source": [
    "Subsample 2000 instance for each year"
   ]
  },
  {
   "cell_type": "code",
   "execution_count": 6,
   "metadata": {},
   "outputs": [],
   "source": [
    "data4 = dataset4.sample(n=2000)"
   ]
  },
  {
   "cell_type": "code",
   "execution_count": 7,
   "metadata": {},
   "outputs": [],
   "source": [
    "data5 = dataset5.sample(n=2000)"
   ]
  },
  {
   "cell_type": "code",
   "execution_count": 8,
   "metadata": {},
   "outputs": [],
   "source": [
    "data6 = dataset6.sample(n=2000)"
   ]
  },
  {
   "cell_type": "code",
   "execution_count": 9,
   "metadata": {},
   "outputs": [],
   "source": [
    "data7 = dataset7.sample(n=2000)"
   ]
  },
  {
   "cell_type": "code",
   "execution_count": 10,
   "metadata": {},
   "outputs": [],
   "source": [
    "dataall = pd.concat([data4, data5, data6, data7])"
   ]
  },
  {
   "cell_type": "code",
   "execution_count": 46,
   "metadata": {},
   "outputs": [
    {
     "data": {
      "text/plain": [
       "pandas.core.frame.DataFrame"
      ]
     },
     "execution_count": 46,
     "metadata": {},
     "output_type": "execute_result"
    }
   ],
   "source": [
    "type(dataall)"
   ]
  },
  {
   "cell_type": "code",
   "execution_count": 16,
   "metadata": {},
   "outputs": [],
   "source": [
    "data456 = pd.concat([data45, dataset6])"
   ]
  },
  {
   "cell_type": "code",
   "execution_count": 31,
   "metadata": {},
   "outputs": [],
   "source": [
    "data4567 = pd.concat([data456, dataset7])"
   ]
  },
  {
   "cell_type": "code",
   "execution_count": 22,
   "metadata": {},
   "outputs": [],
   "source": [
    "data4567.to_csv('E:/nyc-parking-tickets/timedata.csv', header = \"violation time\")"
   ]
  },
  {
   "cell_type": "code",
   "execution_count": 6,
   "metadata": {},
   "outputs": [],
   "source": [
    "dataset5.to_csv('E:/nyc-parking-tickets/Year2015new.csv')"
   ]
  },
  {
   "cell_type": "code",
   "execution_count": 25,
   "metadata": {},
   "outputs": [
    {
     "name": "stderr",
     "output_type": "stream",
     "text": [
      "d:\\python 3.6.4\\lib\\site-packages\\IPython\\core\\interactiveshell.py:2728: DtypeWarning: Columns (19,30,39,40) have mixed types. Specify dtype option on import or set low_memory=False.\n",
      "  interactivity=interactivity, compiler=compiler, result=result)\n"
     ]
    }
   ],
   "source": [
    "newdata = pd.read_csv('E:/nyc-parking-tickets/Year2014August2013June2014new.csv', delimiter=\",\")"
   ]
  },
  {
   "cell_type": "code",
   "execution_count": 5,
   "metadata": {},
   "outputs": [],
   "source": [
    "k = ['Plate.ID','Violation.Time']\n",
    "newdata4 = dataset4[k]"
   ]
  },
  {
   "cell_type": "code",
   "execution_count": 4,
   "metadata": {},
   "outputs": [],
   "source": [
    "newdata4 = dataset4['Violation.Time']"
   ]
  },
  {
   "cell_type": "code",
   "execution_count": null,
   "metadata": {},
   "outputs": [],
   "source": []
  },
  {
   "cell_type": "code",
   "execution_count": 5,
   "metadata": {},
   "outputs": [
    {
     "data": {
      "text/plain": [
       "0           0143A\n",
       "1           0400P\n",
       "2           0233P\n",
       "3           1120A\n",
       "4           0555P\n",
       "5           0852P\n",
       "6           0215A\n",
       "7           0758A\n",
       "8           1005A\n",
       "9           0845A\n",
       "10          0015A\n",
       "11          0707A\n",
       "12          1022A\n",
       "13          1150A\n",
       "14          0525A\n",
       "15          0645P\n",
       "16          1122A\n",
       "17          0256P\n",
       "18          1232A\n",
       "19          1034A\n",
       "20          1021A\n",
       "21          0122P\n",
       "22          0721A\n",
       "23          0940A\n",
       "24          1223P\n",
       "25          1028A\n",
       "26          0950A\n",
       "27          0817A\n",
       "28          0751A\n",
       "29          0148A\n",
       "            ...  \n",
       "10802998    1220P\n",
       "10802999    1259P\n",
       "10803000    0910A\n",
       "10803001    0202A\n",
       "10803002    0120A\n",
       "10803003    1052P\n",
       "10803004    0740A\n",
       "10803005    0715A\n",
       "10803006    0241A\n",
       "10803007    0707P\n",
       "10803008    0943A\n",
       "10803009    1255P\n",
       "10803010    0230A\n",
       "10803011    1032P\n",
       "10803012    0254A\n",
       "10803013    0256A\n",
       "10803014    1020A\n",
       "10803015    0552P\n",
       "10803016    0842A\n",
       "10803017    0835P\n",
       "10803018    0204A\n",
       "10803019    1038P\n",
       "10803020    0709A\n",
       "10803021    0437P\n",
       "10803022    1104P\n",
       "10803023    1207P\n",
       "10803024    0750A\n",
       "10803025    1150A\n",
       "10803026    0319A\n",
       "10803027    0843A\n",
       "Name: Violation.Time, Length: 10803028, dtype: object"
      ]
     },
     "execution_count": 5,
     "metadata": {},
     "output_type": "execute_result"
    }
   ],
   "source": [
    "newdata4"
   ]
  },
  {
   "cell_type": "code",
   "execution_count": 20,
   "metadata": {},
   "outputs": [],
   "source": [
    "testdata = pd.read_csv('E:/nyc-parking-tickets/test.csv', delimiter=\",\", quotechar = '\\\"' )"
   ]
  },
  {
   "cell_type": "code",
   "execution_count": 6,
   "metadata": {},
   "outputs": [],
   "source": [
    "newdata4.to_csv('E:/nyc-parking-tickets/2017time.csv')"
   ]
  },
  {
   "cell_type": "code",
   "execution_count": 3,
   "metadata": {},
   "outputs": [],
   "source": [
    "testdata = dataset4[:10]"
   ]
  },
  {
   "cell_type": "code",
   "execution_count": 13,
   "metadata": {},
   "outputs": [],
   "source": [
    "testdata.to_csv('E:/nyc-parking-tickets/test.csv')"
   ]
  },
  {
   "cell_type": "code",
   "execution_count": 21,
   "metadata": {},
   "outputs": [
    {
     "data": {
      "text/html": [
       "<div>\n",
       "<style scoped>\n",
       "    .dataframe tbody tr th:only-of-type {\n",
       "        vertical-align: middle;\n",
       "    }\n",
       "\n",
       "    .dataframe tbody tr th {\n",
       "        vertical-align: top;\n",
       "    }\n",
       "\n",
       "    .dataframe thead th {\n",
       "        text-align: right;\n",
       "    }\n",
       "</style>\n",
       "<table border=\"1\" class=\"dataframe\">\n",
       "  <thead>\n",
       "    <tr style=\"text-align: right;\">\n",
       "      <th></th>\n",
       "      <th>Unnamed: 0</th>\n",
       "      <th>Summons.Number</th>\n",
       "      <th>Plate.ID</th>\n",
       "      <th>Registration.State</th>\n",
       "      <th>Plate.Type</th>\n",
       "      <th>Issue.Date</th>\n",
       "      <th>Violation.Code</th>\n",
       "      <th>Vehicle.Body.Type</th>\n",
       "      <th>Vehicle.Make</th>\n",
       "      <th>Issuing.Agency</th>\n",
       "      <th>...</th>\n",
       "      <th>Hydrant.Violation</th>\n",
       "      <th>Double.Parking.Violation</th>\n",
       "      <th>Latitude</th>\n",
       "      <th>Longitude</th>\n",
       "      <th>Community.Board</th>\n",
       "      <th>Community.Council</th>\n",
       "      <th>Census.Tract</th>\n",
       "      <th>BIN</th>\n",
       "      <th>BBL</th>\n",
       "      <th>NTA</th>\n",
       "    </tr>\n",
       "  </thead>\n",
       "  <tbody>\n",
       "    <tr>\n",
       "      <th>0</th>\n",
       "      <td>0</td>\n",
       "      <td>1.283294e+09</td>\n",
       "      <td>GBB9093</td>\n",
       "      <td>NY</td>\n",
       "      <td>PAS</td>\n",
       "      <td>08/04/2013</td>\n",
       "      <td>46</td>\n",
       "      <td>SUBN</td>\n",
       "      <td>AUDI</td>\n",
       "      <td>P</td>\n",
       "      <td>...</td>\n",
       "      <td>NaN</td>\n",
       "      <td>NaN</td>\n",
       "      <td>NaN</td>\n",
       "      <td>NaN</td>\n",
       "      <td>NaN</td>\n",
       "      <td>NaN</td>\n",
       "      <td>NaN</td>\n",
       "      <td>NaN</td>\n",
       "      <td>NaN</td>\n",
       "      <td>NaN</td>\n",
       "    </tr>\n",
       "    <tr>\n",
       "      <th>1</th>\n",
       "      <td>1</td>\n",
       "      <td>1.283294e+09</td>\n",
       "      <td>62416MB</td>\n",
       "      <td>NY</td>\n",
       "      <td>COM</td>\n",
       "      <td>08/04/2013</td>\n",
       "      <td>46</td>\n",
       "      <td>VAN</td>\n",
       "      <td>FORD</td>\n",
       "      <td>P</td>\n",
       "      <td>...</td>\n",
       "      <td>NaN</td>\n",
       "      <td>NaN</td>\n",
       "      <td>NaN</td>\n",
       "      <td>NaN</td>\n",
       "      <td>NaN</td>\n",
       "      <td>NaN</td>\n",
       "      <td>NaN</td>\n",
       "      <td>NaN</td>\n",
       "      <td>NaN</td>\n",
       "      <td>NaN</td>\n",
       "    </tr>\n",
       "    <tr>\n",
       "      <th>2</th>\n",
       "      <td>2</td>\n",
       "      <td>1.283294e+09</td>\n",
       "      <td>78755JZ</td>\n",
       "      <td>NY</td>\n",
       "      <td>COM</td>\n",
       "      <td>08/05/2013</td>\n",
       "      <td>46</td>\n",
       "      <td>P-U</td>\n",
       "      <td>CHEVR</td>\n",
       "      <td>P</td>\n",
       "      <td>...</td>\n",
       "      <td>NaN</td>\n",
       "      <td>NaN</td>\n",
       "      <td>NaN</td>\n",
       "      <td>NaN</td>\n",
       "      <td>NaN</td>\n",
       "      <td>NaN</td>\n",
       "      <td>NaN</td>\n",
       "      <td>NaN</td>\n",
       "      <td>NaN</td>\n",
       "      <td>NaN</td>\n",
       "    </tr>\n",
       "    <tr>\n",
       "      <th>3</th>\n",
       "      <td>3</td>\n",
       "      <td>1.283294e+09</td>\n",
       "      <td>63009MA</td>\n",
       "      <td>NY</td>\n",
       "      <td>COM</td>\n",
       "      <td>08/05/2013</td>\n",
       "      <td>46</td>\n",
       "      <td>VAN</td>\n",
       "      <td>FORD</td>\n",
       "      <td>P</td>\n",
       "      <td>...</td>\n",
       "      <td>NaN</td>\n",
       "      <td>NaN</td>\n",
       "      <td>NaN</td>\n",
       "      <td>NaN</td>\n",
       "      <td>NaN</td>\n",
       "      <td>NaN</td>\n",
       "      <td>NaN</td>\n",
       "      <td>NaN</td>\n",
       "      <td>NaN</td>\n",
       "      <td>NaN</td>\n",
       "    </tr>\n",
       "    <tr>\n",
       "      <th>4</th>\n",
       "      <td>4</td>\n",
       "      <td>1.283294e+09</td>\n",
       "      <td>91648MC</td>\n",
       "      <td>NY</td>\n",
       "      <td>COM</td>\n",
       "      <td>08/08/2013</td>\n",
       "      <td>41</td>\n",
       "      <td>TRLR</td>\n",
       "      <td>GMC</td>\n",
       "      <td>P</td>\n",
       "      <td>...</td>\n",
       "      <td>NaN</td>\n",
       "      <td>NaN</td>\n",
       "      <td>NaN</td>\n",
       "      <td>NaN</td>\n",
       "      <td>NaN</td>\n",
       "      <td>NaN</td>\n",
       "      <td>NaN</td>\n",
       "      <td>NaN</td>\n",
       "      <td>NaN</td>\n",
       "      <td>NaN</td>\n",
       "    </tr>\n",
       "    <tr>\n",
       "      <th>5</th>\n",
       "      <td>5</td>\n",
       "      <td>1.283294e+09</td>\n",
       "      <td>T60DAR</td>\n",
       "      <td>NJ</td>\n",
       "      <td>PAS</td>\n",
       "      <td>08/11/2013</td>\n",
       "      <td>14</td>\n",
       "      <td>P-U</td>\n",
       "      <td>DODGE</td>\n",
       "      <td>P</td>\n",
       "      <td>...</td>\n",
       "      <td>NaN</td>\n",
       "      <td>NaN</td>\n",
       "      <td>NaN</td>\n",
       "      <td>NaN</td>\n",
       "      <td>NaN</td>\n",
       "      <td>NaN</td>\n",
       "      <td>NaN</td>\n",
       "      <td>NaN</td>\n",
       "      <td>NaN</td>\n",
       "      <td>NaN</td>\n",
       "    </tr>\n",
       "    <tr>\n",
       "      <th>6</th>\n",
       "      <td>6</td>\n",
       "      <td>1.283294e+09</td>\n",
       "      <td>GCR2838</td>\n",
       "      <td>NY</td>\n",
       "      <td>PAS</td>\n",
       "      <td>08/11/2013</td>\n",
       "      <td>14</td>\n",
       "      <td>VAN</td>\n",
       "      <td>NaN</td>\n",
       "      <td>P</td>\n",
       "      <td>...</td>\n",
       "      <td>NaN</td>\n",
       "      <td>NaN</td>\n",
       "      <td>NaN</td>\n",
       "      <td>NaN</td>\n",
       "      <td>NaN</td>\n",
       "      <td>NaN</td>\n",
       "      <td>NaN</td>\n",
       "      <td>NaN</td>\n",
       "      <td>NaN</td>\n",
       "      <td>NaN</td>\n",
       "    </tr>\n",
       "    <tr>\n",
       "      <th>7</th>\n",
       "      <td>7</td>\n",
       "      <td>1.283984e+09</td>\n",
       "      <td>XZ764G</td>\n",
       "      <td>NJ</td>\n",
       "      <td>PAS</td>\n",
       "      <td>08/07/2013</td>\n",
       "      <td>24</td>\n",
       "      <td>DELV</td>\n",
       "      <td>FORD</td>\n",
       "      <td>X</td>\n",
       "      <td>...</td>\n",
       "      <td>NaN</td>\n",
       "      <td>NaN</td>\n",
       "      <td>NaN</td>\n",
       "      <td>NaN</td>\n",
       "      <td>NaN</td>\n",
       "      <td>NaN</td>\n",
       "      <td>NaN</td>\n",
       "      <td>NaN</td>\n",
       "      <td>NaN</td>\n",
       "      <td>NaN</td>\n",
       "    </tr>\n",
       "    <tr>\n",
       "      <th>8</th>\n",
       "      <td>8</td>\n",
       "      <td>1.283984e+09</td>\n",
       "      <td>GBH9379</td>\n",
       "      <td>NY</td>\n",
       "      <td>PAS</td>\n",
       "      <td>08/07/2013</td>\n",
       "      <td>24</td>\n",
       "      <td>SDN</td>\n",
       "      <td>TOYOT</td>\n",
       "      <td>X</td>\n",
       "      <td>...</td>\n",
       "      <td>NaN</td>\n",
       "      <td>NaN</td>\n",
       "      <td>NaN</td>\n",
       "      <td>NaN</td>\n",
       "      <td>NaN</td>\n",
       "      <td>NaN</td>\n",
       "      <td>NaN</td>\n",
       "      <td>NaN</td>\n",
       "      <td>NaN</td>\n",
       "      <td>NaN</td>\n",
       "    </tr>\n",
       "    <tr>\n",
       "      <th>9</th>\n",
       "      <td>9</td>\n",
       "      <td>1.283984e+09</td>\n",
       "      <td>MCL78B</td>\n",
       "      <td>NJ</td>\n",
       "      <td>PAS</td>\n",
       "      <td>07/18/2013</td>\n",
       "      <td>24</td>\n",
       "      <td>SDN</td>\n",
       "      <td>SUBAR</td>\n",
       "      <td>H</td>\n",
       "      <td>...</td>\n",
       "      <td>NaN</td>\n",
       "      <td>NaN</td>\n",
       "      <td>NaN</td>\n",
       "      <td>NaN</td>\n",
       "      <td>NaN</td>\n",
       "      <td>NaN</td>\n",
       "      <td>NaN</td>\n",
       "      <td>NaN</td>\n",
       "      <td>NaN</td>\n",
       "      <td>NaN</td>\n",
       "    </tr>\n",
       "  </tbody>\n",
       "</table>\n",
       "<p>10 rows × 52 columns</p>\n",
       "</div>"
      ],
      "text/plain": [
       "   Unnamed: 0  Summons.Number Plate.ID Registration.State Plate.Type  \\\n",
       "0           0    1.283294e+09  GBB9093                 NY        PAS   \n",
       "1           1    1.283294e+09  62416MB                 NY        COM   \n",
       "2           2    1.283294e+09  78755JZ                 NY        COM   \n",
       "3           3    1.283294e+09  63009MA                 NY        COM   \n",
       "4           4    1.283294e+09  91648MC                 NY        COM   \n",
       "5           5    1.283294e+09   T60DAR                 NJ        PAS   \n",
       "6           6    1.283294e+09  GCR2838                 NY        PAS   \n",
       "7           7    1.283984e+09   XZ764G                 NJ        PAS   \n",
       "8           8    1.283984e+09  GBH9379                 NY        PAS   \n",
       "9           9    1.283984e+09   MCL78B                 NJ        PAS   \n",
       "\n",
       "   Issue.Date  Violation.Code Vehicle.Body.Type Vehicle.Make Issuing.Agency  \\\n",
       "0  08/04/2013              46              SUBN         AUDI              P   \n",
       "1  08/04/2013              46               VAN         FORD              P   \n",
       "2  08/05/2013              46               P-U        CHEVR              P   \n",
       "3  08/05/2013              46               VAN         FORD              P   \n",
       "4  08/08/2013              41              TRLR          GMC              P   \n",
       "5  08/11/2013              14               P-U        DODGE              P   \n",
       "6  08/11/2013              14               VAN          NaN              P   \n",
       "7  08/07/2013              24              DELV         FORD              X   \n",
       "8  08/07/2013              24               SDN        TOYOT              X   \n",
       "9  07/18/2013              24               SDN        SUBAR              H   \n",
       "\n",
       "  ...   Hydrant.Violation  Double.Parking.Violation  Latitude  Longitude  \\\n",
       "0 ...                 NaN                       NaN       NaN        NaN   \n",
       "1 ...                 NaN                       NaN       NaN        NaN   \n",
       "2 ...                 NaN                       NaN       NaN        NaN   \n",
       "3 ...                 NaN                       NaN       NaN        NaN   \n",
       "4 ...                 NaN                       NaN       NaN        NaN   \n",
       "5 ...                 NaN                       NaN       NaN        NaN   \n",
       "6 ...                 NaN                       NaN       NaN        NaN   \n",
       "7 ...                 NaN                       NaN       NaN        NaN   \n",
       "8 ...                 NaN                       NaN       NaN        NaN   \n",
       "9 ...                 NaN                       NaN       NaN        NaN   \n",
       "\n",
       "   Community.Board  Community.Council  Census.Tract  BIN  BBL  NTA  \n",
       "0              NaN                NaN           NaN  NaN  NaN  NaN  \n",
       "1              NaN                NaN           NaN  NaN  NaN  NaN  \n",
       "2              NaN                NaN           NaN  NaN  NaN  NaN  \n",
       "3              NaN                NaN           NaN  NaN  NaN  NaN  \n",
       "4              NaN                NaN           NaN  NaN  NaN  NaN  \n",
       "5              NaN                NaN           NaN  NaN  NaN  NaN  \n",
       "6              NaN                NaN           NaN  NaN  NaN  NaN  \n",
       "7              NaN                NaN           NaN  NaN  NaN  NaN  \n",
       "8              NaN                NaN           NaN  NaN  NaN  NaN  \n",
       "9              NaN                NaN           NaN  NaN  NaN  NaN  \n",
       "\n",
       "[10 rows x 52 columns]"
      ]
     },
     "execution_count": 21,
     "metadata": {},
     "output_type": "execute_result"
    }
   ],
   "source": [
    "testdata"
   ]
  },
  {
   "cell_type": "code",
   "execution_count": 22,
   "metadata": {},
   "outputs": [
    {
     "data": {
      "text/plain": [
       "0    0752A\n",
       "1    1240P\n",
       "2    1243P\n",
       "3    0232P\n",
       "4    1239P\n",
       "5    0617P\n",
       "6    0741P\n",
       "7    0425A\n",
       "8    0437A\n",
       "9    0839A\n",
       "Name: Violation.Time, dtype: object"
      ]
     },
     "execution_count": 22,
     "metadata": {},
     "output_type": "execute_result"
    }
   ],
   "source": [
    "testdata['Violation.Time']"
   ]
  },
  {
   "cell_type": "markdown",
   "metadata": {},
   "source": [
    "Add an ‘M’ to any cells that contain 4 digits."
   ]
  },
  {
   "cell_type": "code",
   "execution_count": 23,
   "metadata": {},
   "outputs": [],
   "source": [
    "test = testdata['Violation.Time'].replace(r'[0-9]{4}.', testdata['Violation.Time'] + 'M', regex = True, inplace = True)"
   ]
  },
  {
   "cell_type": "code",
   "execution_count": 24,
   "metadata": {},
   "outputs": [
    {
     "data": {
      "text/plain": [
       "0    0752AM\n",
       "1    1240PM\n",
       "2    1243PM\n",
       "3    0232PM\n",
       "4    1239PM\n",
       "5    0617PM\n",
       "6    0741PM\n",
       "7    0425AM\n",
       "8    0437AM\n",
       "9    0839AM\n",
       "Name: Violation.Time, dtype: object"
      ]
     },
     "execution_count": 24,
     "metadata": {},
     "output_type": "execute_result"
    }
   ],
   "source": [
    "testdata['Violation.Time']"
   ]
  },
  {
   "cell_type": "code",
   "execution_count": 60,
   "metadata": {},
   "outputs": [],
   "source": [
    "test1 = pd.to_datetime(testdata['Violation.Time'], format = '%I%M%p', errors = 'coerce')"
   ]
  },
  {
   "cell_type": "code",
   "execution_count": 61,
   "metadata": {},
   "outputs": [
    {
     "data": {
      "text/plain": [
       "0   1900-01-01 07:52:00\n",
       "1   1900-01-01 12:40:00\n",
       "2   1900-01-01 12:43:00\n",
       "3   1900-01-01 14:32:00\n",
       "4   1900-01-01 12:39:00\n",
       "5   1900-01-01 18:17:00\n",
       "6   1900-01-01 19:41:00\n",
       "7   1900-01-01 04:25:00\n",
       "8   1900-01-01 04:37:00\n",
       "9   1900-01-01 08:39:00\n",
       "Name: Violation.Time, dtype: datetime64[ns]"
      ]
     },
     "execution_count": 61,
     "metadata": {},
     "output_type": "execute_result"
    }
   ],
   "source": [
    "test1"
   ]
  },
  {
   "cell_type": "markdown",
   "metadata": {},
   "source": [
    "Create a ‘start point’ which is 00:00"
   ]
  },
  {
   "cell_type": "code",
   "execution_count": 18,
   "metadata": {},
   "outputs": [],
   "source": [
    "startpoint = pd.to_datetime('000000', format = '%H%M%S')"
   ]
  },
  {
   "cell_type": "code",
   "execution_count": 97,
   "metadata": {},
   "outputs": [
    {
     "data": {
      "text/plain": [
       "'11:36:30'"
      ]
     },
     "execution_count": 97,
     "metadata": {},
     "output_type": "execute_result"
    }
   ],
   "source": [
    "((test1 - startpoint).mean() + startpoint).strftime('%H:%M:%S')"
   ]
  },
  {
   "cell_type": "code",
   "execution_count": null,
   "metadata": {},
   "outputs": [],
   "source": [
    "###mean of time"
   ]
  },
  {
   "cell_type": "code",
   "execution_count": 14,
   "metadata": {},
   "outputs": [],
   "source": [
    "timedat = dataall[1].replace(r'[0-9]{4}.', dataall[1] + 'M', regex = True)"
   ]
  },
  {
   "cell_type": "code",
   "execution_count": 15,
   "metadata": {},
   "outputs": [
    {
     "data": {
      "text/plain": [
       "7740185     1239PM\n",
       "8893859     0455PM\n",
       "2258016     1058AM\n",
       "1911889     0801PM\n",
       "5496457     0923AM\n",
       "7493727     0945AM\n",
       "1411070     0614PM\n",
       "5767760     0946AM\n",
       "6425212     0315AM\n",
       "5482094     0706AM\n",
       "1832878     1239PM\n",
       "5261828     0232PM\n",
       "7131873     1242PM\n",
       "1180016     0955AM\n",
       "8295146     0305PM\n",
       "5782942     0431PM\n",
       "5588387     0924PM\n",
       "4832828     1127AM\n",
       "5830498     0812AM\n",
       "3975469     1024AM\n",
       "381799      0841AM\n",
       "7390158     1008AM\n",
       "2769610     1255PM\n",
       "6874613     0650AM\n",
       "2133572     0349PM\n",
       "6121712     0152PM\n",
       "8045636     0430PM\n",
       "3532781     1241AM\n",
       "6378172     1101AM\n",
       "8247009     1147AM\n",
       "             ...  \n",
       "329869      0138PM\n",
       "6164405     0857AM\n",
       "2488928     0640PM\n",
       "7321558     1125AM\n",
       "2454226     0944AM\n",
       "7204096     0132PM\n",
       "9217396     0253PM\n",
       "2488204     1016PM\n",
       "8818794     0955AM\n",
       "9164596     0524PM\n",
       "5983729     0912AM\n",
       "9647628     1051AM\n",
       "8668969     0148PM\n",
       "3260234     0132PM\n",
       "4643346     0916AM\n",
       "8825424     0330AM\n",
       "1000445     0947AM\n",
       "9848930     1231PM\n",
       "1725930     1001AM\n",
       "3387806     1010AM\n",
       "3008909     0300PM\n",
       "134926      0216PM\n",
       "7168385     0927AM\n",
       "2274596     0351PM\n",
       "10438414    0802AM\n",
       "5377013     1246PM\n",
       "2476433     0115PM\n",
       "8368735     0749AM\n",
       "5372116     0225PM\n",
       "10041       1150AM\n",
       "Name: 1, Length: 8000, dtype: object"
      ]
     },
     "execution_count": 15,
     "metadata": {},
     "output_type": "execute_result"
    }
   ],
   "source": [
    "timedat"
   ]
  },
  {
   "cell_type": "markdown",
   "metadata": {},
   "source": [
    "Convert the data into datetime datatype:"
   ]
  },
  {
   "cell_type": "code",
   "execution_count": 16,
   "metadata": {},
   "outputs": [],
   "source": [
    "timedate = pd.to_datetime(timedat, format = '%I%M%p', errors = 'coerce')"
   ]
  },
  {
   "cell_type": "code",
   "execution_count": 17,
   "metadata": {},
   "outputs": [
    {
     "data": {
      "text/plain": [
       "7740185    1900-01-01 12:39:00\n",
       "8893859    1900-01-01 16:55:00\n",
       "2258016    1900-01-01 10:58:00\n",
       "1911889    1900-01-01 20:01:00\n",
       "5496457    1900-01-01 09:23:00\n",
       "7493727    1900-01-01 09:45:00\n",
       "1411070    1900-01-01 18:14:00\n",
       "5767760    1900-01-01 09:46:00\n",
       "6425212    1900-01-01 03:15:00\n",
       "5482094    1900-01-01 07:06:00\n",
       "1832878    1900-01-01 12:39:00\n",
       "5261828    1900-01-01 14:32:00\n",
       "7131873    1900-01-01 12:42:00\n",
       "1180016    1900-01-01 09:55:00\n",
       "8295146    1900-01-01 15:05:00\n",
       "5782942    1900-01-01 16:31:00\n",
       "5588387    1900-01-01 21:24:00\n",
       "4832828    1900-01-01 11:27:00\n",
       "5830498    1900-01-01 08:12:00\n",
       "3975469    1900-01-01 10:24:00\n",
       "381799     1900-01-01 08:41:00\n",
       "7390158    1900-01-01 10:08:00\n",
       "2769610    1900-01-01 12:55:00\n",
       "6874613    1900-01-01 06:50:00\n",
       "2133572    1900-01-01 15:49:00\n",
       "6121712    1900-01-01 13:52:00\n",
       "8045636    1900-01-01 16:30:00\n",
       "3532781    1900-01-01 00:41:00\n",
       "6378172    1900-01-01 11:01:00\n",
       "8247009    1900-01-01 11:47:00\n",
       "                   ...        \n",
       "329869     1900-01-01 13:38:00\n",
       "6164405    1900-01-01 08:57:00\n",
       "2488928    1900-01-01 18:40:00\n",
       "7321558    1900-01-01 11:25:00\n",
       "2454226    1900-01-01 09:44:00\n",
       "7204096    1900-01-01 13:32:00\n",
       "9217396    1900-01-01 14:53:00\n",
       "2488204    1900-01-01 22:16:00\n",
       "8818794    1900-01-01 09:55:00\n",
       "9164596    1900-01-01 17:24:00\n",
       "5983729    1900-01-01 09:12:00\n",
       "9647628    1900-01-01 10:51:00\n",
       "8668969    1900-01-01 13:48:00\n",
       "3260234    1900-01-01 13:32:00\n",
       "4643346    1900-01-01 09:16:00\n",
       "8825424    1900-01-01 03:30:00\n",
       "1000445    1900-01-01 09:47:00\n",
       "9848930    1900-01-01 12:31:00\n",
       "1725930    1900-01-01 10:01:00\n",
       "3387806    1900-01-01 10:10:00\n",
       "3008909    1900-01-01 15:00:00\n",
       "134926     1900-01-01 14:16:00\n",
       "7168385    1900-01-01 09:27:00\n",
       "2274596    1900-01-01 15:51:00\n",
       "10438414   1900-01-01 08:02:00\n",
       "5377013    1900-01-01 12:46:00\n",
       "2476433    1900-01-01 13:15:00\n",
       "8368735    1900-01-01 07:49:00\n",
       "5372116    1900-01-01 14:25:00\n",
       "10041      1900-01-01 11:50:00\n",
       "Name: 1, Length: 8000, dtype: datetime64[ns]"
      ]
     },
     "execution_count": 17,
     "metadata": {},
     "output_type": "execute_result"
    }
   ],
   "source": [
    "timedate"
   ]
  },
  {
   "cell_type": "markdown",
   "metadata": {},
   "source": [
    "## mean value of the violation time"
   ]
  },
  {
   "cell_type": "markdown",
   "metadata": {},
   "source": [
    "Use each data to minus the start point to get the mean value:"
   ]
  },
  {
   "cell_type": "code",
   "execution_count": 19,
   "metadata": {},
   "outputs": [
    {
     "data": {
      "text/plain": [
       "'12:08:27'"
      ]
     },
     "execution_count": 19,
     "metadata": {},
     "output_type": "execute_result"
    }
   ],
   "source": [
    "((timedate - startpoint).mean() + startpoint).strftime('%H:%M:%S')"
   ]
  },
  {
   "cell_type": "code",
   "execution_count": 35,
   "metadata": {},
   "outputs": [],
   "source": [
    "timehis = timedate.dropna()"
   ]
  },
  {
   "cell_type": "code",
   "execution_count": 2,
   "metadata": {},
   "outputs": [],
   "source": [
    "dataset4 = pd.read_csv('E:/nyc-parking-tickets/timehis.csv', delimiter=\",\", quotechar = '\\\"', header = None)"
   ]
  },
  {
   "cell_type": "code",
   "execution_count": null,
   "metadata": {},
   "outputs": [],
   "source": []
  },
  {
   "cell_type": "code",
   "execution_count": 4,
   "metadata": {},
   "outputs": [],
   "source": [
    "dataset4[1] = pd.to_datetime(dataset4[1], format = '%Y-%m-%d %H:%M:%S')"
   ]
  },
  {
   "cell_type": "markdown",
   "metadata": {},
   "source": [
    "## show the districution of the violation time"
   ]
  },
  {
   "cell_type": "code",
   "execution_count": 13,
   "metadata": {},
   "outputs": [
    {
     "data": {
      "text/plain": [
       "<matplotlib.axes._subplots.AxesSubplot at 0x17d0c878438>"
      ]
     },
     "execution_count": 13,
     "metadata": {},
     "output_type": "execute_result"
    },
    {
     "data": {
      "image/png": "[encoded data removed]",
      "text/plain": [
       "<matplotlib.figure.Figure at 0x17d0c83abe0>"
      ]
     },
     "metadata": {},
     "output_type": "display_data"
    }
   ],
   "source": [
    "dataset4[1].groupby([dataset4[1].dt.hour, dataset4[1].dt.minute]).count().plot(kind=\"bar\", figsize = (18,5))"
   ]
  },
  {
   "cell_type": "code",
   "execution_count": 14,
   "metadata": {},
   "outputs": [
    {
     "data": {
      "text/plain": [
       "<matplotlib.axes._subplots.AxesSubplot at 0x17d100d0c18>"
      ]
     },
     "execution_count": 14,
     "metadata": {},
     "output_type": "execute_result"
    },
    {
     "data": {
      "image/png": "[encoded data removed]",
      "text/plain": [
       "<matplotlib.figure.Figure at 0x17d0f5bac50>"
      ]
     },
     "metadata": {},
     "output_type": "display_data"
    }
   ],
   "source": [
    "dataset4[1].groupby(dataset4[1].dt.hour).count().plot(kind=\"bar\", figsize = (18,5))"
   ]
  },
  {
   "cell_type": "markdown",
   "metadata": {},
   "source": [
    "it seems like a normal distribution but let's run a normality test"
   ]
  },
  {
   "cell_type": "code",
   "execution_count": 18,
   "metadata": {},
   "outputs": [
    {
     "data": {
      "text/plain": [
       "NormaltestResult(statistic=63.29541831260221, pvalue=1.80125230070917e-14)"
      ]
     },
     "execution_count": 18,
     "metadata": {},
     "output_type": "execute_result"
    }
   ],
   "source": [
    "scipy.stats.normaltest(b)"
   ]
  },
  {
   "cell_type": "markdown",
   "metadata": {},
   "source": [
    "The p-value is too small, so it's not a normal ditribution"
   ]
  },
  {
   "cell_type": "code",
   "execution_count": null,
   "metadata": {},
   "outputs": [],
   "source": []
  }
 ],
 "metadata": {
  "kernelspec": {
   "display_name": "Python 3",
   "language": "python",
   "name": "python3"
  },
  "language_info": {
   "codemirror_mode": {
    "name": "ipython",
    "version": 3
   },
   "file_extension": ".py",
   "mimetype": "text/x-python",
   "name": "python",
   "nbconvert_exporter": "python",
   "pygments_lexer": "ipython3",
   "version": "3.6.4"
  }
 },
 "nbformat": 4,
 "nbformat_minor": 2
}
